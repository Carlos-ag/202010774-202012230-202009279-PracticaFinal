{
 "cells": [
  {
   "cell_type": "code",
   "execution_count": 2,
   "metadata": {},
   "outputs": [
    {
     "name": "stdout",
     "output_type": "stream",
     "text": [
      "Modified image saved as modified_astro.png\n"
     ]
    },
    {
     "name": "stderr",
     "output_type": "stream",
     "text": [
      "/Users/carlos/miniforge3/envs/pandasenv/lib/python3.10/site-packages/PIL/Image.py:975: UserWarning: Palette images with Transparency expressed in bytes should be converted to RGBA images\n",
      "  warnings.warn(\n"
     ]
    }
   ],
   "source": [
    "from PIL import Image\n",
    "\n",
    "def change_black_pixels(image_path):\n",
    "    # Open the image using PIL\n",
    "    image = Image.open(image_path)\n",
    "\n",
    "    # Convert the image to RGB mode\n",
    "    image = image.convert(\"RGB\")\n",
    "\n",
    "    # Get the width and height of the image\n",
    "    width, height = image.size\n",
    "\n",
    "    # Iterate over each pixel in the image\n",
    "    for x in range(width):\n",
    "        for y in range(height):\n",
    "            # Get the RGB values of the current pixel\n",
    "            r, g, b = image.getpixel((x, y))\n",
    "\n",
    "            # Check if the pixel is black (RGB values of 0)\n",
    "            if r == g == b == 0:\n",
    "                # Change the pixel color to #e89800\n",
    "                image.putpixel((x, y), (232, 152, 0))  # RGB values for #e89800\n",
    "\n",
    "    # Save the modified image\n",
    "    output_path = \"modified_\" + image_path\n",
    "    image.save(output_path)\n",
    "    print(f\"Modified image saved as {output_path}\")\n",
    "\n",
    "\n",
    "# Usage example\n",
    "image_path = \"astro.png\"  # Replace with the path to your image file\n",
    "change_black_pixels(image_path)\n"
   ]
  }
 ],
 "metadata": {
  "kernelspec": {
   "display_name": "pandasenv",
   "language": "python",
   "name": "python3"
  },
  "language_info": {
   "codemirror_mode": {
    "name": "ipython",
    "version": 3
   },
   "file_extension": ".py",
   "mimetype": "text/x-python",
   "name": "python",
   "nbconvert_exporter": "python",
   "pygments_lexer": "ipython3",
   "version": "3.10.1"
  },
  "orig_nbformat": 4
 },
 "nbformat": 4,
 "nbformat_minor": 2
}
